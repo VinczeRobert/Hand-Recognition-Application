{
  "nbformat": 4,
  "nbformat_minor": 0,
  "metadata": {
    "colab": {
      "name": "hand_sign_recognition_app.ipynb",
      "provenance": [],
      "collapsed_sections": [],
      "machine_shape": "hm"
    },
    "kernelspec": {
      "name": "python3",
      "display_name": "Python 3"
    },
    "accelerator": "GPU"
  },
  "cells": [
    {
      "cell_type": "markdown",
      "metadata": {
        "id": "6HPlzE38UZQI",
        "colab_type": "text"
      },
      "source": [
        "**The following code needs to be run only once. It is for connecting Colab to your Google Drive. When running this cell you will be given a password and you need to enter it here.**"
      ]
    },
    {
      "cell_type": "code",
      "metadata": {
        "id": "sYjKJzZ_Ufby",
        "colab_type": "code",
        "outputId": "607caa0c-4c39-4a4c-cf39-f200d36e4295",
        "colab": {
          "base_uri": "https://localhost:8080/",
          "height": 121
        }
      },
      "source": [
        "from google.colab import drive\n",
        "drive.mount('/content/drive')"
      ],
      "execution_count": 1,
      "outputs": [
        {
          "output_type": "stream",
          "text": [
            "Go to this URL in a browser: https://accounts.google.com/o/oauth2/auth?client_id=947318989803-6bn6qk8qdgf4n4g3pfee6491hc0brc4i.apps.googleusercontent.com&redirect_uri=urn%3aietf%3awg%3aoauth%3a2.0%3aoob&response_type=code&scope=email%20https%3a%2f%2fwww.googleapis.com%2fauth%2fdocs.test%20https%3a%2f%2fwww.googleapis.com%2fauth%2fdrive%20https%3a%2f%2fwww.googleapis.com%2fauth%2fdrive.photos.readonly%20https%3a%2f%2fwww.googleapis.com%2fauth%2fpeopleapi.readonly\n",
            "\n",
            "Enter your authorization code:\n",
            "··········\n",
            "Mounted at /content/drive\n"
          ],
          "name": "stdout"
        }
      ]
    },
    {
      "cell_type": "markdown",
      "metadata": {
        "id": "Ut0f-p39juA5",
        "colab_type": "text"
      },
      "source": [
        "**The first thing we have to do is to upload our dataset to Colab. The fastest way to do this is via your Google Drive.**\n",
        "\n",
        "Steps for uploading a zip file from Google Drive to Colab:\n",
        "1. Get the id out of the shareable link of the zip file you wish to upload.\n",
        "You will get a link in this form: \n",
        "https://drive.google.com/open?id=1M1S92ZnwuKgFcH7ueUCn_nTNC1SacV3n\n",
        "Extract the part after \"id=\".\n",
        "\n",
        "2. Run the cell below.\n",
        "Before getting the file, Google will ask you to enter an authentication password, which you can easily get by just following the instructions. You also need to specify the name of the file in the cell.\n",
        "After entering the password you will have your uploaded zip file in Colab."
      ]
    },
    {
      "cell_type": "code",
      "metadata": {
        "id": "HrSjqlV9b-yX",
        "colab_type": "code",
        "colab": {}
      },
      "source": [
        "from pydrive.auth import GoogleAuth\n",
        "from pydrive.drive import GoogleDrive\n",
        "from google.colab import auth\n",
        "from oauth2client.client import GoogleCredentials\n",
        "\n",
        "auth.authenticate_user()\n",
        "gauth = GoogleAuth()\n",
        "gauth.credentials = GoogleCredentials.get_application_default()\n",
        "drive = GoogleDrive(gauth)\n",
        "\n",
        "id = \"1hi5On0ujAfztjtmnC5B8OvhHnk6kQKnk\" # Enter the id of the file you want to upload from Google Drive\n",
        "file_name = \"Only_Letters.zip\" # Enter the name of the file you want to upload from Google Drive\n",
        "downloaded = drive.CreateFile({'id': id}) \n",
        "downloaded.GetContentFile(file_name)  "
      ],
      "execution_count": 0,
      "outputs": []
    },
    {
      "cell_type": "markdown",
      "metadata": {
        "id": "oXIfxLEil4nJ",
        "colab_type": "text"
      },
      "source": [
        "Run this cell to unzip the file."
      ]
    },
    {
      "cell_type": "code",
      "metadata": {
        "id": "gBRLucWxZjXy",
        "colab_type": "code",
        "colab": {}
      },
      "source": [
        "!unzip \"Only_Letters.zip\""
      ],
      "execution_count": 0,
      "outputs": []
    },
    {
      "cell_type": "markdown",
      "metadata": {
        "id": "vLuZKOVvLu6q",
        "colab_type": "text"
      },
      "source": [
        "**Now we get to the actual application part.**\n",
        "\n",
        "First we import the needed libraries."
      ]
    },
    {
      "cell_type": "markdown",
      "metadata": {
        "id": "VFV9HA8swkc4",
        "colab_type": "text"
      },
      "source": [
        "Sklearn is not contained in Colab, so it must be installed first. Run the next cell to do so."
      ]
    },
    {
      "cell_type": "code",
      "metadata": {
        "id": "sbI_e6izwqxC",
        "colab_type": "code",
        "colab": {}
      },
      "source": [
        "!pip uninstall sklearn -y\n",
        "!pip install Cython\n",
        "!pip install https://github.com/Santosh-Gupta/scikit-learn/archive/master.zip"
      ],
      "execution_count": 0,
      "outputs": []
    },
    {
      "cell_type": "code",
      "metadata": {
        "id": "GZ_D2e1vv0Dy",
        "colab_type": "code",
        "colab": {
          "base_uri": "https://localhost:8080/",
          "height": 34
        },
        "outputId": "6398acd1-81ca-4fe2-e6bd-585ff58c6d0d"
      },
      "source": [
        "import os\n",
        "import numpy as np\n",
        "import cv2 as cv\n",
        "from sklearn.model_selection import train_test_split\n",
        "from keras import models, layers, losses, regularizers, callbacks\n",
        "from sklearn import metrics\n",
        "import timeit\n",
        "import seaborn as sn\n",
        "import pandas as pd\n",
        "import matplotlib.pyplot as plt"
      ],
      "execution_count": 6,
      "outputs": [
        {
          "output_type": "stream",
          "text": [
            "Using TensorFlow backend.\n"
          ],
          "name": "stderr"
        }
      ]
    },
    {
      "cell_type": "markdown",
      "metadata": {
        "id": "xxWcE5RWwU-S",
        "colab_type": "text"
      },
      "source": [
        "We declare some constant values."
      ]
    },
    {
      "cell_type": "code",
      "metadata": {
        "id": "FjuANAD5ahe3",
        "colab_type": "code",
        "colab": {}
      },
      "source": [
        "CLASSES = ['A', 'B', 'C', 'D', 'E', 'F', 'G', 'H', 'I', 'J', 'K', 'L', 'M', 'N', 'O', 'P', 'Q', 'R', 'S',\n",
        "           'T', 'U', 'V', 'W', 'X', 'Y', 'Z']\n",
        "TRAINING_DATA_FOLDER = 'Only_Letters' # Name of the unzipped file, which contains the dataset.\n",
        "NUMBER_OF_CLASSES = 26\n",
        "NUMBER_OF_IMAGES = 1815\n",
        "IMAGE_SIZE_X = 64\n",
        "IMAGE_SIZE_Y = 64\n",
        "SPLIT_RATIO = 0.1"
      ],
      "execution_count": 0,
      "outputs": []
    },
    {
      "cell_type": "markdown",
      "metadata": {
        "id": "pok4k7eMN2PT",
        "colab_type": "text"
      },
      "source": [
        "**We use the TrainingDataReader class to read images.**\n",
        "\n",
        "Initially we only read them into the training_data and training_class_labels attributes.\n",
        "Later, we will divide the data into training and testing data.\n",
        "\n",
        "An important thing to note about the structure of the dataset folder is that it must have separate folders for each class and the images should be distributed correspondingly. Also, the folder names should be the same az the class name, thus we have a separate folder for each letter of the american alphabet."
      ]
    },
    {
      "cell_type": "code",
      "metadata": {
        "id": "hi4--Fy4XfN0",
        "colab_type": "code",
        "colab": {}
      },
      "source": [
        "class TrainingDataReader:\n",
        "\n",
        "    def __init__(self):\n",
        "      \"\"\"\n",
        "      attributes:\n",
        "      training_data: contains data that we will use to train our model\n",
        "      training_class_labels: actual classes that each training sample belongs to\n",
        "      testing_data: contains data that we will use to test the accuracy of our trained model\n",
        "      testing_class_labels: actual classes that each testing sample belongs to\n",
        "      \"\"\"\n",
        "      self.number_of_classes = NUMBER_OF_CLASSES\n",
        "      self.training_data = np.zeros(shape=(NUMBER_OF_IMAGES, IMAGE_SIZE_X, IMAGE_SIZE_Y, 3), dtype='float32')\n",
        "      self.training_class_labels = np.zeros(shape=NUMBER_OF_IMAGES, dtype='uint8')\n",
        "      self.testing_data = None\n",
        "      self.testing_class_labels = None\n",
        "      self.counter = 0\n",
        "\n",
        "    def read_training_data(self):\n",
        "      \"\"\"\n",
        "      Obtains folder with data from the next class and calls 'read_data_for_one_class' to actually read the data\n",
        "      \"\"\"\n",
        "      self.counter = 0\n",
        "      for category in CLASSES:\n",
        "          path = os.path.join(TRAINING_DATA_FOLDER, category)\n",
        "          class_num = CLASSES.index(category)\n",
        "          self.read_data_for_one_class(path, class_num)\n",
        "\n",
        "    def read_data_for_one_class(self, path, class_num):\n",
        "      \"\"\"\n",
        "      Main method of this first part of the project.\n",
        "      This method gets the path to a folder belonging to one class, iterates through the photos, reads them,\n",
        "      normalizes them and adds them to the training data, as well as the corresponding class labels.\n",
        "      \"\"\"\n",
        "      print('Currently reading data for class number {}...'.format(class_num))\n",
        "      for image in os.listdir(path):\n",
        "        try:\n",
        "          image_array = cv.imread(os.path.join(path, image), cv.IMREAD_COLOR)\n",
        "\n",
        "          if image_array.size == 0:\n",
        "            raise FileNotFoundError\n",
        "\n",
        "          new_array = cv.resize(image_array, (IMAGE_SIZE_X, IMAGE_SIZE_Y))\n",
        "          self.training_data[self.counter] = cv.normalize(new_array, None, alpha=0, beta=1, norm_type=cv.NORM_MINMAX, dtype=cv.CV_32F)\n",
        "          self.training_class_labels[self.counter] = class_num\n",
        "          self.counter = self.counter + 1\n",
        "        except FileNotFoundError as e:\n",
        "          print(e)\n",
        "          exit(-1)\n",
        "    def split_data(self):\n",
        "      training_data_reader.training_data, training_data_reader.testing_data, \\\n",
        "        training_data_reader.training_class_labels, training_data_reader.testing_class_labels = \\\n",
        "        train_test_split(training_data_reader.training_data, training_data_reader.training_class_labels, test_size = SPLIT_RATIO)          "
      ],
      "execution_count": 0,
      "outputs": []
    },
    {
      "cell_type": "markdown",
      "metadata": {
        "id": "jOFokwGgxIvm",
        "colab_type": "text"
      },
      "source": [
        "**Run the next cell in order to read the images and split them into training and testing sets.**"
      ]
    },
    {
      "cell_type": "markdown",
      "metadata": {
        "id": "wYwKQvqHxqQa",
        "colab_type": "text"
      },
      "source": [
        "Using sklearn's train_test_split method we will split our original data into training and testing set. It is very important to also note that this method shuffles the data by default. This is something that will be crucial to obtain a high accuracy not only on the training data, but on the validation data as well."
      ]
    },
    {
      "cell_type": "code",
      "metadata": {
        "id": "MHGM2fCJ2i9i",
        "colab_type": "code",
        "colab": {}
      },
      "source": [
        "training_data_reader = TrainingDataReader()\n",
        "training_data_reader.read_training_data()\n",
        "training_data_reader.split_data()"
      ],
      "execution_count": 0,
      "outputs": []
    },
    {
      "cell_type": "markdown",
      "metadata": {
        "id": "31Sh_22vTpYU",
        "colab_type": "text"
      },
      "source": [
        "Run this next cell to save your data in a file called hra_training_data.h5. This is useful if you wish to train your network locally or on another PC and you don't want to read the images every time, you can just load the numpy arrays from the .h5 file. "
      ]
    },
    {
      "cell_type": "code",
      "metadata": {
        "id": "itUye5tLs5Bv",
        "colab_type": "code",
        "colab": {}
      },
      "source": [
        "import h5py\n",
        "\n",
        "with h5py.File('hra_training_data.h5', 'w') as hf:\n",
        "  hf.create_dataset(\"training_data\", data=training_data_reader.training_data)\n",
        "  hf.create_dataset(\"training_class_labels\", data=training_data_reader.training_class_labels)\n",
        "  hf.create_dataset(\"testing_data\", data=training_data_reader.testing_data)\n",
        "  hf.create_dataset(\"testing_class_labels\", data=training_data_reader.testing_class_labels)"
      ],
      "execution_count": 0,
      "outputs": []
    },
    {
      "cell_type": "markdown",
      "metadata": {
        "id": "NiGnjQs4Vfcl",
        "colab_type": "text"
      },
      "source": [
        "Run this cell in order to copy your data to your Google drive (make sure first that you mounted your drive).\n",
        "\n",
        "After the copying is done, from your Google drive you can save the file locally. \n",
        "\n",
        "If you get an error, mounting your drive again (i.e. running the first cell once again) may solve the problem."
      ]
    },
    {
      "cell_type": "code",
      "metadata": {
        "id": "i6llsem23tnZ",
        "colab_type": "code",
        "colab": {}
      },
      "source": [
        "!cp hra_training_data.h5 \"drive/My Drive/\""
      ],
      "execution_count": 0,
      "outputs": []
    },
    {
      "cell_type": "markdown",
      "metadata": {
        "id": "4CYPPrke1p6i",
        "colab_type": "text"
      },
      "source": [
        "**The next class is where all the magic happens: the architecture of the convolutional neural network that we use for training.**"
      ]
    },
    {
      "cell_type": "code",
      "metadata": {
        "id": "d0CBhrLJyVWV",
        "colab_type": "code",
        "colab": {}
      },
      "source": [
        "class CNNArchitecture:\n",
        "\n",
        "    # Declaring model hyper (non-trainable) parameters for training\n",
        "    INPUT_SHAPE = (64, 64, 3)\n",
        "    NUMBER_OF_FILTERS_1 = 32\n",
        "    NUMBER_OF_FILTERS_2 = 64\n",
        "    NUMBER_OF_FILTERS_3 = 128\n",
        "    NUMBER_OF_FILTERS_4 = 256\n",
        "    KERNEL_SIZE = 3\n",
        "    STRIDES = (1, 1)\n",
        "    POOL_SIZE = 3\n",
        "    DROPOUT_RATE = 0.5\n",
        "    DENSE_UNITS = 512\n",
        "\n",
        "    # String constants\n",
        "    PADDING = \"same\"\n",
        "    ACTIVATION_FUNCTION = 'relu'\n",
        "    SECOND_ACTIVATION_FUNCTION = 'softmax'\n",
        "\n",
        "    # Used regularizer to avoid over-fitting\n",
        "    KERNEL_REGULARIZER = regularizers.l2(0.001)\n",
        "\n",
        "    # Hyper parameters for training\n",
        "    EPOCHS = 6\n",
        "    BATCH_SIZE = 64\n",
        "    VALIDATION_SPLIT = 0.1\n",
        "\n",
        "    def __init__(self):\n",
        "        self.model = models.Sequential()\n",
        "        self.history = None\n",
        "\n",
        "    def build_model(self):\n",
        "        \"\"\"\n",
        "        Method used to build the model what will be used for training.\n",
        "        Override this method with your own implementation and subclass for trying out a different model.\n",
        "        \"\"\"\n",
        "        self.model.add(layers.Conv2D(filters=self.NUMBER_OF_FILTERS_2, kernel_size=self.KERNEL_SIZE,\n",
        "                                     strides=self.STRIDES, padding=self.PADDING, activation=self.ACTIVATION_FUNCTION,\n",
        "                                     input_shape=self.INPUT_SHAPE))\n",
        "        self.model.add(layers.Conv2D(filters=self.NUMBER_OF_FILTERS_2, kernel_size=self.KERNEL_SIZE,\n",
        "                                     strides=self.STRIDES, padding=self.PADDING, activation=self.ACTIVATION_FUNCTION))\n",
        "        self.model.add(layers.MaxPooling2D(pool_size=self.POOL_SIZE))\n",
        "\n",
        "        self.model.add(layers.Conv2D(filters=self.NUMBER_OF_FILTERS_2, kernel_size=self.KERNEL_SIZE,\n",
        "                                     strides=self.STRIDES, padding=self.PADDING, activation=self.ACTIVATION_FUNCTION,\n",
        "                                     input_shape=self.INPUT_SHAPE))\n",
        "        self.model.add(layers.Conv2D(filters=self.NUMBER_OF_FILTERS_3, kernel_size=self.KERNEL_SIZE,\n",
        "                                     strides=self.STRIDES, padding=self.PADDING, activation=self.ACTIVATION_FUNCTION))\n",
        "        self.model.add(layers.MaxPooling2D(pool_size=self.POOL_SIZE))\n",
        "\n",
        "        self.model.add(layers.Conv2D(filters=self.NUMBER_OF_FILTERS_3, kernel_size=self.KERNEL_SIZE,\n",
        "                                     strides=self.STRIDES, padding=self.PADDING, activation=self.ACTIVATION_FUNCTION))\n",
        "        self.model.add(layers.Conv2D(filters=self.NUMBER_OF_FILTERS_4, kernel_size=self.KERNEL_SIZE,\n",
        "                                     strides=self.STRIDES, padding=self.PADDING, activation=self.ACTIVATION_FUNCTION))\n",
        "        self.model.add(layers.MaxPooling2D(pool_size=self.POOL_SIZE))\n",
        "\n",
        "        self.model.add(layers.BatchNormalization())\n",
        "        self.model.add(layers.Flatten())\n",
        "        self.model.add(layers.Dropout(rate=self.DROPOUT_RATE))\n",
        "\n",
        "        self.model.add(\n",
        "            layers.Dense(self.DENSE_UNITS, activation=self.ACTIVATION_FUNCTION, kernel_regularizer=self.KERNEL_REGULARIZER))\n",
        "        self.model.add(layers.Dense(NUMBER_OF_CLASSES, activation=self.SECOND_ACTIVATION_FUNCTION))\n",
        "\n",
        "        print(self.model.summary())\n",
        "\n",
        "        self.model.compile(optimizer='adam',\n",
        "                           loss=losses.sparse_categorical_crossentropy,\n",
        "                           metrics=['accuracy'])\n",
        "\n",
        "    def train_model(self, train_images, class_labels):\n",
        "        \"\"\"\n",
        "        Method used to train the built model.\n",
        "        :param train_images: images that the training will be done on\n",
        "        :param class_labels: classes that the images belong to\n",
        "        \"\"\"\n",
        "        save_weights_callback = self.use_callback_for_saving_model()\n",
        "        early_stopping_callback = self.use_callback_for_early_stopping()\n",
        "        self.history = self.model.fit(train_images, class_labels, epochs=self.EPOCHS, batch_size=self.BATCH_SIZE, shuffle=True,\n",
        "                                      validation_split=self.VALIDATION_SPLIT, callbacks=[save_weights_callback, early_stopping_callback])\n",
        "\n",
        "        print(\"Model has been created.\")\n",
        "        self.model.summary()\n",
        "\n",
        "    def evaluate_model(self, test_images, class_labels):\n",
        "        \"\"\"\n",
        "        Method used to test the built model.\n",
        "        :param test_images: images that the model will be evaluated on\n",
        "        :param class_labels: classes that the images belong to\n",
        "        \"\"\"\n",
        "        evaluate_metrics = self.model.evaluate(test_images, class_labels)\n",
        "        print(\"\\nEvaluation Accuracy = \", \"{:.2f}%\".format(evaluate_metrics[1] * 100), \"\\nEvaluation loss = \",\n",
        "              \"{:.6f}\".format(evaluate_metrics[0]))\n",
        "\n",
        "    @staticmethod\n",
        "    def use_callback_for_saving_model():\n",
        "        \"\"\"\n",
        "        Create a Callback that saves the model's weights.\n",
        "        \"\"\"\n",
        "        save_weights_callback = callbacks.ModelCheckpoint(filepath=WEIGHTS_PATH, save_weights_only=True, verbose=1)\n",
        "        return save_weights_callback\n",
        "\n",
        "    @staticmethod\n",
        "    def use_callback_for_early_stopping():\n",
        "      \"\"\"\n",
        "      Create a Callback that stops the model earlier if no improvements are made, thus avoid overfitting.\n",
        "      \"\"\"\n",
        "      early_stopping_callback = callbacks.EarlyStopping(monitor='val_accuracy', min_delta=0.001, patience=1)\n",
        "      return early_stopping_callback\n",
        "\n",
        "    def predict_classes_for_images(self, images):\n",
        "        \"\"\"\n",
        "        Takes an array of images as argument and for each image predicts the class with maximum probability.\n",
        "        :param images: input images which we need prediction for\n",
        "        :return: array of predictions for each input image\n",
        "        \"\"\"\n",
        "        predictions = self.model.predict(images)\n",
        "        max_predictions = []\n",
        "\n",
        "        for idx in range(len(predictions)):\n",
        "            max_predictions.append(np.argmax(predictions[idx]))\n",
        "\n",
        "        return max_predictions\n",
        "\n",
        "    @staticmethod\n",
        "    def compute_confusion_matrix(true_labels, predicted_labels):\n",
        "        confusion_matrix = metrics.confusion_matrix(true_labels, predicted_labels)\n",
        "        return confusion_matrix"
      ],
      "execution_count": 0,
      "outputs": []
    },
    {
      "cell_type": "markdown",
      "metadata": {
        "id": "nJ5esUjY2BvX",
        "colab_type": "text"
      },
      "source": [
        "**Run the following cell to train the neural network and to compute the total time for training in seconds.**"
      ]
    },
    {
      "cell_type": "markdown",
      "metadata": {
        "id": "2IMab5wY48le",
        "colab_type": "text"
      },
      "source": [
        "You will be able to see the training and validation accuracy, as well as the architecture of the built model. You may need to run this cell a few times in order to get a higher accuracy."
      ]
    },
    {
      "cell_type": "code",
      "metadata": {
        "id": "lmltjuesyc2m",
        "colab_type": "code",
        "colab": {}
      },
      "source": [
        "WEIGHTS_PATH = 'weights.ckpt'\n",
        "\n",
        "cnn_architecture = CNNArchitecture()\n",
        "cnn_architecture.build_model()\n",
        "\n",
        "start = timeit.default_timer()\n",
        "cnn_architecture.train_model(training_data_reader.training_data, training_data_reader.training_class_labels)\n",
        "stop = timeit.default_timer()\n",
        "\n",
        "print('Total Run Time for Training: {}'.format(stop - start))"
      ],
      "execution_count": 0,
      "outputs": []
    },
    {
      "cell_type": "markdown",
      "metadata": {
        "id": "ijy-I1OA9tg8",
        "colab_type": "text"
      },
      "source": [
        "Run the next cell in order to view the evolution of the training and validation accuracy as the epochs go on."
      ]
    },
    {
      "cell_type": "code",
      "metadata": {
        "id": "XAX33csq8vby",
        "colab_type": "code",
        "colab": {
          "base_uri": "https://localhost:8080/",
          "height": 295
        },
        "outputId": "3c288056-72b5-463e-8b7b-7c50ae81ca06"
      },
      "source": [
        "plt.plot(cnn_architecture.history.history['accuracy'])\n",
        "plt.plot(cnn_architecture.history.history['val_accuracy'])\n",
        "plt.legend(['train', 'validation'], loc='lower right')\n",
        "plt.title('Train VS. Validation Accuracy')\n",
        "plt.xlabel('epoch')\n",
        "plt.ylabel('accuracy')\n",
        "plt.show()"
      ],
      "execution_count": 27,
      "outputs": [
        {
          "output_type": "display_data",
          "data": {
            "image/png": "[encoded data removed]",
            "text/plain": [
              "<Figure size 432x288 with 1 Axes>"
            ]
          },
          "metadata": {
            "tags": [],
            "needs_background": "light"
          }
        }
      ]
    },
    {
      "cell_type": "markdown",
      "metadata": {
        "id": "dhZhkZkX98ai",
        "colab_type": "text"
      },
      "source": [
        "Run the next cell in order to view the evolution of the training and validation loss as the epochs go on."
      ]
    },
    {
      "cell_type": "code",
      "metadata": {
        "id": "LmPfUIyt-F6_",
        "colab_type": "code",
        "colab": {
          "base_uri": "https://localhost:8080/",
          "height": 295
        },
        "outputId": "4cf663fd-8f3b-41ce-87be-b227fc67ca5c"
      },
      "source": [
        "plt.plot(cnn_architecture.history.history['loss'])\n",
        "plt.plot(cnn_architecture.history.history['val_loss'])\n",
        "plt.legend(['train', 'validation'], loc='upper right')\n",
        "plt.title('Train VS. Validation Loss')\n",
        "plt.xlabel('epoch')\n",
        "plt.ylabel('loss')\n",
        "plt.show()"
      ],
      "execution_count": 31,
      "outputs": [
        {
          "output_type": "display_data",
          "data": {
            "image/png": "[encoded data removed]",
            "text/plain": [
              "<Figure size 432x288 with 1 Axes>"
            ]
          },
          "metadata": {
            "tags": [],
            "needs_background": "light"
          }
        }
      ]
    },
    {
      "cell_type": "markdown",
      "metadata": {
        "id": "nV3KM3Y08djl",
        "colab_type": "text"
      },
      "source": [
        "The following cell will calculate the predicted_classes for the testing images and it will display the confusion matrix."
      ]
    },
    {
      "cell_type": "code",
      "metadata": {
        "id": "1W4hFweP6JIw",
        "colab_type": "code",
        "colab": {}
      },
      "source": [
        "predicted_labels = cnn_architecture.predict_classes_for_images(training_data_reader.testing_data)\n",
        "confusion_matrix = cnn_architecture.compute_confusion_matrix(training_data_reader.testing_class_labels, predicted_labels)\n",
        "\n",
        "df = pd.DataFrame(confusion_matrix, index = [i for i in CLASSES],\n",
        "                  columns = [i for i in CLASSES])\n",
        "plt.figure(figsize=(NUMBER_OF_CLASSES, NUMBER_OF_CLASSES))\n",
        "sn.heatmap(df, annot=True)"
      ],
      "execution_count": 0,
      "outputs": []
    }
  ]
}